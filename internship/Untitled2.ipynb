{
 "cells": [
  {
   "cell_type": "code",
   "execution_count": 1,
   "id": "9b8e9377",
   "metadata": {},
   "outputs": [],
   "source": [
    "import numpy as np\n",
    "from products import *\n",
    "import random"
   ]
  },
  {
   "cell_type": "code",
   "execution_count": 2,
   "id": "7849d391",
   "metadata": {},
   "outputs": [
    {
     "name": "stdout",
     "output_type": "stream",
     "text": [
      "LargeCap : ['Nippon_India_Large_Cap_Fund', 'HDFC_Top_100_Fund', 'ICICI_Pru_Bluechip_Fund', 'JM_Large_Cap_Fund', 'Quant_Focused_Fund', 'DSP_Nifty_50_Equal_Weight_Index_Fund_Reg', 'Baroda_BNP_Paridas_Large_Cap_Fund', 'Edelweiss_Large_Cap_Fund_Reg', 'Kotak_Bluechip_Fund_Reg', 'SBI_Bluechip_Fund', 'Canara_Robeco_Bluechip_Equity_Fund_Reg']\n",
      "Large_MidCap : ['ICICI_Pru_Large_Mid_Cap_Fund', 'HDFC_Large_Mid_Cap_Fund', 'Motilal_Oswal_Large_Mid_Cap_Fund', 'Kotak_Equity_Opportunities_Fund', 'SBI_Large_Mid_Cap_Fund']\n",
      "Flexi_Cap : ['ICICI_Pru_Retirement_Fund', 'JM_Flexicap_Fund', 'HDFC_Focused_30_Fund', 'Bank_of_India_Flexi_Cap_Fund_Reg', 'HDFC_Flexi_Cap_Fund', 'HDFC_Retirement_Savings_Fund_Equity_Plan_Reg', 'ICICI_Pru_Focused_Equity_Fund', 'Franklin_India_Flexi_Cap_Fund', 'Franklin_India_Focused_Equity_Fund', '360_ONE_Focused_Equity_Fund_Reg', 'Union_Flexi_Cap_Fund']\n",
      "MidCap_Fund : ['Motilal_Oswal_Midcap_Fund_Reg', 'Quant_Midcap_Fund', 'Nippon_India_Growth_Fund', 'HDFC_Midcap_Opportunities_Fund', 'Edelweiss_Midcap_Fund_Reg', 'SBI_Magnum_Midcap_Fund', 'Kotak_Emerging_Equity_Fund_Reg']\n",
      "SmallCap_Fund : ['Nippon_India_Small_Cap_Fund', 'Tata_Small_Cap_Fund_Reg', 'ICICI_Prudential_Small_Cap_Fund', 'Edelweiss_Small_Cap_Fund', 'Axis_Small_Cap_Fund']\n",
      "Value_Oriented : ['SBI_Contra_Fund', 'JM_Value_Fund', 'Templeton_India_Value_Fund', 'Bandhan_Sterling_Value_Fund', 'ICICI_Prudential_Value_Discovery_Fund']\n",
      "ELSS : ['SBI_Long_Term_Equity_Fund', 'Quant_ELSS_Tax_Saver_Fund', 'Bank_of_India_ELSS_Tax_Saver_Fund', 'Parag_Parikh_ELSS_Tax_Saver_Fund', 'Kotak_ELSS_Tax_Saver', 'Bandhan_ELSS_Tax_Saver_Fund', 'DSP_ELSS_Tax_Saver_Fund', 'Union_ELSS_Tax_Saver_Fund']\n"
     ]
    }
   ],
   "source": [
    "funds = fund_list()\n",
    "for category in funds:\n",
    "    print(f'{category} : {funds[category]}')"
   ]
  },
  {
   "cell_type": "code",
   "execution_count": 3,
   "id": "e9caa7b8",
   "metadata": {},
   "outputs": [
    {
     "name": "stdout",
     "output_type": "stream",
     "text": [
      "LargeCap\n",
      "Large_MidCap\n",
      "Flexi_Cap\n",
      "MidCap_Fund\n",
      "SmallCap_Fund\n",
      "Value_Oriented\n",
      "ELSS\n",
      "7\n"
     ]
    }
   ],
   "source": [
    "for category in funds:\n",
    "    print(category)\n",
    "print(len(funds))"
   ]
  },
  {
   "cell_type": "code",
   "execution_count": 4,
   "id": "43d55a36",
   "metadata": {},
   "outputs": [
    {
     "name": "stdout",
     "output_type": "stream",
     "text": [
      "Nippon_India_Large_Cap_Fund\n",
      "HDFC_Top_100_Fund\n",
      "ICICI_Pru_Bluechip_Fund\n",
      "JM_Large_Cap_Fund\n",
      "Quant_Focused_Fund\n",
      "DSP_Nifty_50_Equal_Weight_Index_Fund_Reg\n",
      "Baroda_BNP_Paridas_Large_Cap_Fund\n",
      "Edelweiss_Large_Cap_Fund_Reg\n",
      "Kotak_Bluechip_Fund_Reg\n",
      "SBI_Bluechip_Fund\n",
      "Canara_Robeco_Bluechip_Equity_Fund_Reg\n",
      "\n",
      "ICICI_Pru_Large_Mid_Cap_Fund\n",
      "HDFC_Large_Mid_Cap_Fund\n",
      "Motilal_Oswal_Large_Mid_Cap_Fund\n",
      "Kotak_Equity_Opportunities_Fund\n",
      "SBI_Large_Mid_Cap_Fund\n",
      "\n",
      "ICICI_Pru_Retirement_Fund\n",
      "JM_Flexicap_Fund\n",
      "HDFC_Focused_30_Fund\n",
      "Bank_of_India_Flexi_Cap_Fund_Reg\n",
      "HDFC_Flexi_Cap_Fund\n",
      "HDFC_Retirement_Savings_Fund_Equity_Plan_Reg\n",
      "ICICI_Pru_Focused_Equity_Fund\n",
      "Franklin_India_Flexi_Cap_Fund\n",
      "Franklin_India_Focused_Equity_Fund\n",
      "360_ONE_Focused_Equity_Fund_Reg\n",
      "Union_Flexi_Cap_Fund\n",
      "\n",
      "Motilal_Oswal_Midcap_Fund_Reg\n",
      "Quant_Midcap_Fund\n",
      "Nippon_India_Growth_Fund\n",
      "HDFC_Midcap_Opportunities_Fund\n",
      "Edelweiss_Midcap_Fund_Reg\n",
      "SBI_Magnum_Midcap_Fund\n",
      "Kotak_Emerging_Equity_Fund_Reg\n",
      "\n",
      "Nippon_India_Small_Cap_Fund\n",
      "Tata_Small_Cap_Fund_Reg\n",
      "ICICI_Prudential_Small_Cap_Fund\n",
      "Edelweiss_Small_Cap_Fund\n",
      "Axis_Small_Cap_Fund\n",
      "\n",
      "SBI_Contra_Fund\n",
      "JM_Value_Fund\n",
      "Templeton_India_Value_Fund\n",
      "Bandhan_Sterling_Value_Fund\n",
      "ICICI_Prudential_Value_Discovery_Fund\n",
      "\n",
      "SBI_Long_Term_Equity_Fund\n",
      "Quant_ELSS_Tax_Saver_Fund\n",
      "Bank_of_India_ELSS_Tax_Saver_Fund\n",
      "Parag_Parikh_ELSS_Tax_Saver_Fund\n",
      "Kotak_ELSS_Tax_Saver\n",
      "Bandhan_ELSS_Tax_Saver_Fund\n",
      "DSP_ELSS_Tax_Saver_Fund\n",
      "Union_ELSS_Tax_Saver_Fund\n",
      "\n"
     ]
    }
   ],
   "source": [
    "for category in funds:\n",
    "    for i in range(len(funds[category])):\n",
    "        print(funds[category][i]) \n",
    "    print()    "
   ]
  },
  {
   "cell_type": "code",
   "execution_count": 5,
   "id": "f266c745",
   "metadata": {},
   "outputs": [
    {
     "name": "stdout",
     "output_type": "stream",
     "text": [
      "[1 4 5 2 0]\n"
     ]
    }
   ],
   "source": [
    "index = np.array([], dtype=int)\n",
    "while len(index)<5: \n",
    "    y = random.randrange(len(funds))\n",
    "    if y not in index:\n",
    "        index = np.append(index, y)\n",
    "print(index)           "
   ]
  },
  {
   "cell_type": "code",
   "execution_count": 6,
   "id": "0fe86c90",
   "metadata": {},
   "outputs": [
    {
     "name": "stdout",
     "output_type": "stream",
     "text": [
      "LargeCap : ['Nippon_India_Large_Cap_Fund', 'ICICI_Pru_Bluechip_Fund', 'HDFC_Top_100_Fund', 'DSP_Nifty_50_Equal_Weight_Index_Fund_Reg', 'SBI_Bluechip_Fund']\n",
      "Large_MidCap : ['ICICI_Pru_Large_Mid_Cap_Fund', 'HDFC_Large_Mid_Cap_Fund', 'Kotak_Equity_Opportunities_Fund', 'SBI_Large_Mid_Cap_Fund', 'Motilal_Oswal_Large_Mid_Cap_Fund']\n",
      "Flexi_Cap : ['Franklin_India_Flexi_Cap_Fund', 'Bank_of_India_Flexi_Cap_Fund_Reg', 'Union_Flexi_Cap_Fund', '360_ONE_Focused_Equity_Fund_Reg', 'Franklin_India_Focused_Equity_Fund']\n",
      "MidCap_Fund : ['Kotak_Emerging_Equity_Fund_Reg', 'Nippon_India_Growth_Fund', 'HDFC_Midcap_Opportunities_Fund', 'Edelweiss_Midcap_Fund_Reg', 'Quant_Midcap_Fund']\n",
      "SmallCap_Fund : ['ICICI_Prudential_Small_Cap_Fund', 'Nippon_India_Small_Cap_Fund', 'Axis_Small_Cap_Fund', 'Edelweiss_Small_Cap_Fund', 'Tata_Small_Cap_Fund_Reg']\n",
      "Value_Oriented : ['SBI_Contra_Fund', 'Bandhan_Sterling_Value_Fund', 'JM_Value_Fund', 'Templeton_India_Value_Fund', 'ICICI_Prudential_Value_Discovery_Fund']\n",
      "ELSS : ['DSP_ELSS_Tax_Saver_Fund', 'Union_ELSS_Tax_Saver_Fund', 'Bank_of_India_ELSS_Tax_Saver_Fund', 'Bandhan_ELSS_Tax_Saver_Fund', 'SBI_Long_Term_Equity_Fund']\n"
     ]
    }
   ],
   "source": [
    "fund_name = {}\n",
    "for category, fund_list in funds.items():\n",
    "    fund_name[category] = random.sample(fund_list, 5)\n",
    "for category, fund_list in fund_name.items():\n",
    "    print(f'{category} : {fund_list}')"
   ]
  },
  {
   "cell_type": "code",
   "execution_count": 7,
   "id": "80964cc0",
   "metadata": {},
   "outputs": [
    {
     "data": {
      "text/html": [
       "<div>\n",
       "<style scoped>\n",
       "    .dataframe tbody tr th:only-of-type {\n",
       "        vertical-align: middle;\n",
       "    }\n",
       "\n",
       "    .dataframe tbody tr th {\n",
       "        vertical-align: top;\n",
       "    }\n",
       "\n",
       "    .dataframe thead th {\n",
       "        text-align: right;\n",
       "    }\n",
       "</style>\n",
       "<table border=\"1\" class=\"dataframe\">\n",
       "  <thead>\n",
       "    <tr style=\"text-align: right;\">\n",
       "      <th></th>\n",
       "      <th>LargeCap</th>\n",
       "      <th>Large_MidCap</th>\n",
       "      <th>Flexi_Cap</th>\n",
       "      <th>MidCap_Fund</th>\n",
       "      <th>SmallCap_Fund</th>\n",
       "      <th>Value_Oriented</th>\n",
       "      <th>ELSS</th>\n",
       "    </tr>\n",
       "  </thead>\n",
       "  <tbody>\n",
       "    <tr>\n",
       "      <th>0</th>\n",
       "      <td>Nippon_India_Large_Cap_Fund</td>\n",
       "      <td>ICICI_Pru_Large_Mid_Cap_Fund</td>\n",
       "      <td>Franklin_India_Flexi_Cap_Fund</td>\n",
       "      <td>Kotak_Emerging_Equity_Fund_Reg</td>\n",
       "      <td>ICICI_Prudential_Small_Cap_Fund</td>\n",
       "      <td>SBI_Contra_Fund</td>\n",
       "      <td>DSP_ELSS_Tax_Saver_Fund</td>\n",
       "    </tr>\n",
       "    <tr>\n",
       "      <th>1</th>\n",
       "      <td>ICICI_Pru_Bluechip_Fund</td>\n",
       "      <td>HDFC_Large_Mid_Cap_Fund</td>\n",
       "      <td>Bank_of_India_Flexi_Cap_Fund_Reg</td>\n",
       "      <td>Nippon_India_Growth_Fund</td>\n",
       "      <td>Nippon_India_Small_Cap_Fund</td>\n",
       "      <td>Bandhan_Sterling_Value_Fund</td>\n",
       "      <td>Union_ELSS_Tax_Saver_Fund</td>\n",
       "    </tr>\n",
       "    <tr>\n",
       "      <th>2</th>\n",
       "      <td>HDFC_Top_100_Fund</td>\n",
       "      <td>Kotak_Equity_Opportunities_Fund</td>\n",
       "      <td>Union_Flexi_Cap_Fund</td>\n",
       "      <td>HDFC_Midcap_Opportunities_Fund</td>\n",
       "      <td>Axis_Small_Cap_Fund</td>\n",
       "      <td>JM_Value_Fund</td>\n",
       "      <td>Bank_of_India_ELSS_Tax_Saver_Fund</td>\n",
       "    </tr>\n",
       "    <tr>\n",
       "      <th>3</th>\n",
       "      <td>DSP_Nifty_50_Equal_Weight_Index_Fund_Reg</td>\n",
       "      <td>SBI_Large_Mid_Cap_Fund</td>\n",
       "      <td>360_ONE_Focused_Equity_Fund_Reg</td>\n",
       "      <td>Edelweiss_Midcap_Fund_Reg</td>\n",
       "      <td>Edelweiss_Small_Cap_Fund</td>\n",
       "      <td>Templeton_India_Value_Fund</td>\n",
       "      <td>Bandhan_ELSS_Tax_Saver_Fund</td>\n",
       "    </tr>\n",
       "    <tr>\n",
       "      <th>4</th>\n",
       "      <td>SBI_Bluechip_Fund</td>\n",
       "      <td>Motilal_Oswal_Large_Mid_Cap_Fund</td>\n",
       "      <td>Franklin_India_Focused_Equity_Fund</td>\n",
       "      <td>Quant_Midcap_Fund</td>\n",
       "      <td>Tata_Small_Cap_Fund_Reg</td>\n",
       "      <td>ICICI_Prudential_Value_Discovery_Fund</td>\n",
       "      <td>SBI_Long_Term_Equity_Fund</td>\n",
       "    </tr>\n",
       "  </tbody>\n",
       "</table>\n",
       "</div>"
      ],
      "text/plain": [
       "                                   LargeCap                      Large_MidCap   \n",
       "0               Nippon_India_Large_Cap_Fund      ICICI_Pru_Large_Mid_Cap_Fund  \\\n",
       "1                   ICICI_Pru_Bluechip_Fund           HDFC_Large_Mid_Cap_Fund   \n",
       "2                         HDFC_Top_100_Fund   Kotak_Equity_Opportunities_Fund   \n",
       "3  DSP_Nifty_50_Equal_Weight_Index_Fund_Reg            SBI_Large_Mid_Cap_Fund   \n",
       "4                         SBI_Bluechip_Fund  Motilal_Oswal_Large_Mid_Cap_Fund   \n",
       "\n",
       "                            Flexi_Cap                     MidCap_Fund   \n",
       "0       Franklin_India_Flexi_Cap_Fund  Kotak_Emerging_Equity_Fund_Reg  \\\n",
       "1    Bank_of_India_Flexi_Cap_Fund_Reg        Nippon_India_Growth_Fund   \n",
       "2                Union_Flexi_Cap_Fund  HDFC_Midcap_Opportunities_Fund   \n",
       "3     360_ONE_Focused_Equity_Fund_Reg       Edelweiss_Midcap_Fund_Reg   \n",
       "4  Franklin_India_Focused_Equity_Fund               Quant_Midcap_Fund   \n",
       "\n",
       "                     SmallCap_Fund                         Value_Oriented   \n",
       "0  ICICI_Prudential_Small_Cap_Fund                        SBI_Contra_Fund  \\\n",
       "1      Nippon_India_Small_Cap_Fund            Bandhan_Sterling_Value_Fund   \n",
       "2              Axis_Small_Cap_Fund                          JM_Value_Fund   \n",
       "3         Edelweiss_Small_Cap_Fund             Templeton_India_Value_Fund   \n",
       "4          Tata_Small_Cap_Fund_Reg  ICICI_Prudential_Value_Discovery_Fund   \n",
       "\n",
       "                                ELSS  \n",
       "0            DSP_ELSS_Tax_Saver_Fund  \n",
       "1          Union_ELSS_Tax_Saver_Fund  \n",
       "2  Bank_of_India_ELSS_Tax_Saver_Fund  \n",
       "3        Bandhan_ELSS_Tax_Saver_Fund  \n",
       "4          SBI_Long_Term_Equity_Fund  "
      ]
     },
     "execution_count": 7,
     "metadata": {},
     "output_type": "execute_result"
    }
   ],
   "source": [
    "import pandas as pd\n",
    "fund_df = pd.DataFrame(fund_name)\n",
    "fund_df"
   ]
  },
  {
   "cell_type": "code",
   "execution_count": 2,
   "id": "243efa6e",
   "metadata": {},
   "outputs": [],
   "source": [
    "from visualizing_mutual_fund_ import *"
   ]
  },
  {
   "cell_type": "code",
   "execution_count": 9,
   "id": "2a37be7f",
   "metadata": {},
   "outputs": [
    {
     "name": "stdout",
     "output_type": "stream",
     "text": [
      "Nippon_India_Large_Cap_Fund\n",
      "ICICI_Pru_Bluechip_Fund\n",
      "HDFC_Top_100_Fund\n",
      "DSP_Nifty_50_Equal_Weight_Index_Fund_Reg\n",
      "SBI_Bluechip_Fund\n"
     ]
    }
   ],
   "source": [
    "for i in fund_df['LargeCap']:\n",
    "    print(i)"
   ]
  },
  {
   "cell_type": "code",
   "execution_count": 4,
   "id": "fff52852",
   "metadata": {},
   "outputs": [
    {
     "name": "stdout",
     "output_type": "stream",
     "text": [
      "LargeCap:\n",
      "\n",
      "['Canara_Robeco_Bluechip_Equity_Fund_Reg', 'HDFC_Top_100_Fund', 'Nippon_India_Large_Cap_Fund', 'Quant_Focused_Fund', 'SBI_Bluechip_Fund']\n",
      "\n",
      "Large_MidCap:\n",
      "\n",
      "['ICICI_Pru_Large_Mid_Cap_Fund', 'SBI_Large_Mid_Cap_Fund', 'Motilal_Oswal_Large_Mid_Cap_Fund', 'HDFC_Large_Mid_Cap_Fund', 'Kotak_Equity_Opportunities_Fund']\n",
      "\n",
      "Flexi_Cap:\n",
      "\n",
      "['Union_Flexi_Cap_Fund', 'JM_Flexicap_Fund', 'ICICI_Pru_Retirement_Fund', 'HDFC_Flexi_Cap_Fund', '360_ONE_Focused_Equity_Fund_Reg']\n",
      "\n",
      "MidCap_Fund:\n",
      "\n",
      "['SBI_Magnum_Midcap_Fund', 'Motilal_Oswal_Midcap_Fund_Reg', 'Kotak_Emerging_Equity_Fund_Reg', 'Nippon_India_Growth_Fund', 'Edelweiss_Midcap_Fund_Reg']\n",
      "\n",
      "SmallCap_Fund:\n",
      "\n",
      "['Nippon_India_Small_Cap_Fund', 'Axis_Small_Cap_Fund', 'ICICI_Prudential_Small_Cap_Fund', 'Tata_Small_Cap_Fund_Reg', 'Edelweiss_Small_Cap_Fund']\n",
      "\n",
      "Value_Oriented:\n",
      "\n",
      "['SBI_Contra_Fund', 'ICICI_Prudential_Value_Discovery_Fund', 'Templeton_India_Value_Fund', 'JM_Value_Fund', 'Bandhan_Sterling_Value_Fund']\n",
      "\n",
      "ELSS:\n",
      "\n",
      "['Quant_ELSS_Tax_Saver_Fund', 'SBI_Long_Term_Equity_Fund', 'Bandhan_ELSS_Tax_Saver_Fund', 'Bank_of_India_ELSS_Tax_Saver_Fund', 'Union_ELSS_Tax_Saver_Fund']\n",
      "\n"
     ]
    }
   ],
   "source": [
    "visual().compare_category_addition_with_benchmark()"
   ]
  },
  {
   "cell_type": "code",
   "execution_count": 1,
   "id": "083984bf",
   "metadata": {},
   "outputs": [],
   "source": [
    "import pandas as pd"
   ]
  },
  {
   "cell_type": "code",
   "execution_count": 6,
   "id": "84ecdcf3",
   "metadata": {},
   "outputs": [
    {
     "data": {
      "text/html": [
       "<div>\n",
       "<style scoped>\n",
       "    .dataframe tbody tr th:only-of-type {\n",
       "        vertical-align: middle;\n",
       "    }\n",
       "\n",
       "    .dataframe tbody tr th {\n",
       "        vertical-align: top;\n",
       "    }\n",
       "\n",
       "    .dataframe thead th {\n",
       "        text-align: right;\n",
       "    }\n",
       "</style>\n",
       "<table border=\"1\" class=\"dataframe\">\n",
       "  <thead>\n",
       "    <tr style=\"text-align: right;\">\n",
       "      <th></th>\n",
       "      <th>fund_type</th>\n",
       "      <th>fund_name</th>\n",
       "      <th>monthly_aaum</th>\n",
       "    </tr>\n",
       "  </thead>\n",
       "  <tbody>\n",
       "    <tr>\n",
       "      <th>0</th>\n",
       "      <td>LargeCap</td>\n",
       "      <td>Baroda BNP Paridas Large Cap Fund</td>\n",
       "      <td>45766.41</td>\n",
       "    </tr>\n",
       "    <tr>\n",
       "      <th>1</th>\n",
       "      <td>LargeCap</td>\n",
       "      <td>Canera Robeco Bluechip Equity Fund</td>\n",
       "      <td>12976.74</td>\n",
       "    </tr>\n",
       "    <tr>\n",
       "      <th>2</th>\n",
       "      <td>LargeCap</td>\n",
       "      <td>Dsp Nifty50 Equal weight_index_fund</td>\n",
       "      <td>1409.00</td>\n",
       "    </tr>\n",
       "  </tbody>\n",
       "</table>\n",
       "</div>"
      ],
      "text/plain": [
       "  fund_type                            fund_name  monthly_aaum\n",
       "0  LargeCap    Baroda BNP Paridas Large Cap Fund      45766.41\n",
       "1  LargeCap   Canera Robeco Bluechip Equity Fund      12976.74\n",
       "2  LargeCap  Dsp Nifty50 Equal weight_index_fund       1409.00"
      ]
     },
     "execution_count": 6,
     "metadata": {},
     "output_type": "execute_result"
    }
   ],
   "source": [
    "df = pd.read_csv('mutual_funds.csv')\n",
    "df"
   ]
  },
  {
   "cell_type": "code",
   "execution_count": null,
   "id": "3b1a0227",
   "metadata": {},
   "outputs": [],
   "source": [
    "import fitz  # PyMuPDF\n",
    "import pandas as pd\n",
    "\n",
    "def extract_portfolio_table(pdf_path):\n",
    "    # Open the PDF file\n",
    "    pdf_document = fitz.open(pdf_path)\n",
    "    portfolio_data = []\n",
    "    start_collecting = False\n",
    "\n",
    "    # Iterate through each page\n",
    "    for page_num in range(pdf_document.page_count):\n",
    "        page = pdf_document.load_page(page_num)\n",
    "        text = page.get_text(\"text\")\n",
    "\n",
    "        for line in text.split(\"\\n\"):\n",
    "            if \"EQUITY HOLDINGS % of Net Assets\" in line:\n",
    "                start_collecting = True\n",
    "            if start_collecting:\n",
    "                # Stop collecting when the summary ends\n",
    "                if line.strip() == \"\":\n",
    "                    start_collecting = False\n",
    "                    break\n",
    "                portfolio_data.append(line.strip())\n",
    "\n",
    "    # Close the PDF\n",
    "    pdf_document.close()\n",
    "\n",
    "    # Process collected data to form a structured table\n",
    "    categories = {}\n",
    "    current_category = None\n",
    "    for line in portfolio_data:\n",
    "        if line.isupper():  # This line represents a category\n",
    "            current_category = line\n",
    "            categories[current_category] = []\n",
    "        else:\n",
    "            if current_category:\n",
    "                categories[current_category].append(line)\n",
    "\n",
    "    # Convert the data into a DataFrame\n",
    "    equity_holdings = []\n",
    "    for category, items in categories.items():\n",
    "        for item in items:\n",
    "            if \"%\" in item:\n",
    "                parts = item.rsplit(\" \", 1)\n",
    "                equity_holdings.append({\n",
    "                    \"Category\": category,\n",
    "                    \"Company\": parts[0].strip(),\n",
    "                    \"Percentage\": parts[1].replace(\"%\", \"\").strip()\n",
    "                })\n",
    "\n",
    "    f = pd.DataFrame(equity_holdings)\n",
    "    return df\n",
    "\n",
    "# Use the function to extract data from the provided PDF\n",
    "pdf_path = 'Baroda BNP Paridas Large Cap Fund.pdf'\n",
    "portfolio_df = extract_portfolio_table(pdf_path)\n",
    "\n",
    "# Print the extracted portfolio DataFrame\n",
    "print(portfolio_df)"
   ]
  }
 ],
 "metadata": {
  "kernelspec": {
   "display_name": "Python 3 (ipykernel)",
   "language": "python",
   "name": "python3"
  },
  "language_info": {
   "codemirror_mode": {
    "name": "ipython",
    "version": 3
   },
   "file_extension": ".py",
   "mimetype": "text/x-python",
   "name": "python",
   "nbconvert_exporter": "python",
   "pygments_lexer": "ipython3",
   "version": "3.10.9"
  }
 },
 "nbformat": 4,
 "nbformat_minor": 5
}
